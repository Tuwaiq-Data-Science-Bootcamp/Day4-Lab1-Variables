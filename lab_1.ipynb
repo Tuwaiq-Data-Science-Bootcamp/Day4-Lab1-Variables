{
 "cells": [
  {
   "cell_type": "code",
   "execution_count": 14,
   "id": "e9ba9e80",
   "metadata": {},
   "outputs": [
    {
     "name": "stdout",
     "output_type": "stream",
     "text": [
      "my solutions are :  winter - 3 - 3.2 - 5 - 5 - 5 - 8 - 9 - 7\n"
     ]
    }
   ],
   "source": [
    "#1\n",
    "favourite_season = \"winter\" \n",
    "\n",
    "#2\n",
    "x = 3 \n",
    "\n",
    "#2\n",
    "y = 3.2\n",
    "\n",
    "#3\n",
    "k = f = r = 5\n",
    "\n",
    "#4\n",
    "l , a , t = 8 , 9 , 7 \n",
    "\n",
    "\n",
    "print (\"my solutions are : \",favourite_season,\"-\",x,\"-\",y,\"-\",k,\"-\",f,\"-\",r,\"-\",l,\"-\",a,\"-\",t)"
   ]
  },
  {
   "cell_type": "code",
   "execution_count": null,
   "id": "7a9d5c95",
   "metadata": {},
   "outputs": [],
   "source": []
  }
 ],
 "metadata": {
  "kernelspec": {
   "display_name": "Python 3 (ipykernel)",
   "language": "python",
   "name": "python3"
  },
  "language_info": {
   "codemirror_mode": {
    "name": "ipython",
    "version": 3
   },
   "file_extension": ".py",
   "mimetype": "text/x-python",
   "name": "python",
   "nbconvert_exporter": "python",
   "pygments_lexer": "ipython3",
   "version": "3.9.13"
  }
 },
 "nbformat": 4,
 "nbformat_minor": 5
}
