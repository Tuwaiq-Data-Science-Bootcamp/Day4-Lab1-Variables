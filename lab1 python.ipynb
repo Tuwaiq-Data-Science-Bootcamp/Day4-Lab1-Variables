{
 "cells": [
  {
   "cell_type": "markdown",
   "id": "041163ed",
   "metadata": {},
   "source": [
    "# Define a variable that has a value of your favourite season.\n"
   ]
  },
  {
   "cell_type": "code",
   "execution_count": 19,
   "id": "ee8ab3df",
   "metadata": {},
   "outputs": [
    {
     "name": "stdout",
     "output_type": "stream",
     "text": [
      "Summer\n"
     ]
    }
   ],
   "source": [
    "season=\"Summer\"\n",
    "print(season)"
   ]
  },
  {
   "cell_type": "markdown",
   "id": "8412bd79",
   "metadata": {},
   "source": [
    "# Define “x“ variable has an integer value and variable “y” has a float value.\n"
   ]
  },
  {
   "cell_type": "code",
   "execution_count": 21,
   "id": "2b6d11ea",
   "metadata": {},
   "outputs": [
    {
     "name": "stdout",
     "output_type": "stream",
     "text": [
      "10 9.5\n"
     ]
    }
   ],
   "source": [
    "x= 10\n",
    "y= 9.5\n",
    "print(x,y)"
   ]
  },
  {
   "cell_type": "markdown",
   "id": "3730490a",
   "metadata": {},
   "source": [
    "# Assign One Value to Multiple Variables.\n"
   ]
  },
  {
   "cell_type": "code",
   "execution_count": 17,
   "id": "482361a2",
   "metadata": {},
   "outputs": [
    {
     "name": "stdout",
     "output_type": "stream",
     "text": [
      "Multiple Variables Multiple Variables Multiple Variables\n"
     ]
    }
   ],
   "source": [
    "a=b=c='Multiple Variables'\n",
    "print(a,b,c)"
   ]
  },
  {
   "cell_type": "markdown",
   "id": "eaea03e9",
   "metadata": {},
   "source": [
    "# Assign Many Values to Multiple Variables.\n"
   ]
  },
  {
   "cell_type": "code",
   "execution_count": 18,
   "id": "3fcaa93a",
   "metadata": {},
   "outputs": [
    {
     "name": "stdout",
     "output_type": "stream",
     "text": [
      "a b c\n"
     ]
    }
   ],
   "source": [
    "a,b,c ='a','b','c'\n",
    "print(a,b,c)"
   ]
  },
  {
   "cell_type": "code",
   "execution_count": null,
   "id": "7d3264af",
   "metadata": {},
   "outputs": [],
   "source": []
  }
 ],
 "metadata": {
  "kernelspec": {
   "display_name": "Python 3",
   "language": "python",
   "name": "python3"
  },
  "language_info": {
   "codemirror_mode": {
    "name": "ipython",
    "version": 3
   },
   "file_extension": ".py",
   "mimetype": "text/x-python",
   "name": "python",
   "nbconvert_exporter": "python",
   "pygments_lexer": "ipython3",
   "version": "3.8.5"
  }
 },
 "nbformat": 4,
 "nbformat_minor": 5
}
