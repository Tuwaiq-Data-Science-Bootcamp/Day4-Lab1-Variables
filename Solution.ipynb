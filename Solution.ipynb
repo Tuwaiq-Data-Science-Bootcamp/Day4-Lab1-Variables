{
 "cells": [
  {
   "cell_type": "code",
   "execution_count": 31,
   "id": "dd80d247",
   "metadata": {},
   "outputs": [],
   "source": [
    "Season= \"Winter\""
   ]
  },
  {
   "cell_type": "code",
   "execution_count": 32,
   "id": "693bde83",
   "metadata": {},
   "outputs": [],
   "source": [
    "x=int(3)"
   ]
  },
  {
   "cell_type": "code",
   "execution_count": 33,
   "id": "e300589f",
   "metadata": {},
   "outputs": [],
   "source": [
    "y=float(5.5)"
   ]
  },
  {
   "cell_type": "code",
   "execution_count": 34,
   "id": "fa3b158e",
   "metadata": {},
   "outputs": [],
   "source": [
    "d=s=10"
   ]
  },
  {
   "cell_type": "code",
   "execution_count": 35,
   "id": "78a33204",
   "metadata": {},
   "outputs": [],
   "source": [
    "r,t,i=2,3,4"
   ]
  },
  {
   "cell_type": "code",
   "execution_count": 41,
   "id": "7f5a0fdd",
   "metadata": {},
   "outputs": [
    {
     "name": "stdout",
     "output_type": "stream",
     "text": [
      "Winter 3 5.5 10 10 2 3 4\n"
     ]
    }
   ],
   "source": [
    "print(Season,x,y,d,s,r,t,i)"
   ]
  }
 ],
 "metadata": {
  "kernelspec": {
   "display_name": "Python 3 (ipykernel)",
   "language": "python",
   "name": "python3"
  },
  "language_info": {
   "codemirror_mode": {
    "name": "ipython",
    "version": 3
   },
   "file_extension": ".py",
   "mimetype": "text/x-python",
   "name": "python",
   "nbconvert_exporter": "python",
   "pygments_lexer": "ipython3",
   "version": "3.9.13"
  }
 },
 "nbformat": 4,
 "nbformat_minor": 5
}
