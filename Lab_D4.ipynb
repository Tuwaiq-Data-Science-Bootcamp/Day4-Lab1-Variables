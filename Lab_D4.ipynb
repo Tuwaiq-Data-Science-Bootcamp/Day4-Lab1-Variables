{
 "cells": [
  {
   "cell_type": "code",
   "execution_count": 1,
   "id": "a75ca2d2",
   "metadata": {},
   "outputs": [
    {
     "name": "stdout",
     "output_type": "stream",
     "text": [
      "hey\n"
     ]
    }
   ],
   "source": []
  },
  {
   "cell_type": "code",
   "execution_count": null,
   "id": "e67d9f97",
   "metadata": {},
   "outputs": [],
   "source": []
  },
  {
   "cell_type": "code",
   "execution_count": null,
   "id": "609a86e5",
   "metadata": {},
   "outputs": [],
   "source": [
    "season,x,7= \"winter\",10,11.25\n",
    "z=10 \n",
    "\n",
    "name,camp,weeks= 'njood', 'DS',6\n"
   ]
  }
 ],
 "metadata": {
  "kernelspec": {
   "display_name": "Python 3 (ipykernel)",
   "language": "python",
   "name": "python3"
  },
  "language_info": {
   "codemirror_mode": {
    "name": "ipython",
    "version": 3
   },
   "file_extension": ".py",
   "mimetype": "text/x-python",
   "name": "python",
   "nbconvert_exporter": "python",
   "pygments_lexer": "ipython3",
   "version": "3.9.13"
  }
 },
 "nbformat": 4,
 "nbformat_minor": 5
}
