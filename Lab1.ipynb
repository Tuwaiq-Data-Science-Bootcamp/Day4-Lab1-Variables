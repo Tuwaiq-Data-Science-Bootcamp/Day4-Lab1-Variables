{
 "cells": [
  {
   "cell_type": "code",
   "execution_count": 5,
   "id": "41c353e1",
   "metadata": {},
   "outputs": [
    {
     "name": "stdout",
     "output_type": "stream",
     "text": [
      "Winter\n"
     ]
    }
   ],
   "source": [
    "myFavSeason = \"Winter\"\n",
    "print(myFavSeason)"
   ]
  },
  {
   "cell_type": "code",
   "execution_count": 6,
   "id": "a025530f",
   "metadata": {},
   "outputs": [
    {
     "name": "stdout",
     "output_type": "stream",
     "text": [
      "1\n"
     ]
    }
   ],
   "source": [
    "x = 1\n",
    "print(x)"
   ]
  },
  {
   "cell_type": "code",
   "execution_count": 7,
   "id": "bc4e99ea",
   "metadata": {},
   "outputs": [
    {
     "name": "stdout",
     "output_type": "stream",
     "text": [
      "1.5\n"
     ]
    }
   ],
   "source": [
    "y = 1.5\n",
    "print(y)"
   ]
  },
  {
   "cell_type": "code",
   "execution_count": 8,
   "id": "0084402b",
   "metadata": {},
   "outputs": [
    {
     "name": "stdout",
     "output_type": "stream",
     "text": [
      "10   10   10\n"
     ]
    }
   ],
   "source": [
    "x=y=z= 10\n",
    "print(x,\" \",y,\" \",z)"
   ]
  },
  {
   "cell_type": "code",
   "execution_count": 9,
   "id": "73efee54",
   "metadata": {},
   "outputs": [
    {
     "name": "stdout",
     "output_type": "stream",
     "text": [
      "20   30   10\n"
     ]
    }
   ],
   "source": [
    "x, y, z = 20, 30, 10\n",
    "print(x,\" \",y,\" \",z)"
   ]
  },
  {
   "cell_type": "code",
   "execution_count": null,
   "id": "79a738cf",
   "metadata": {},
   "outputs": [],
   "source": []
  }
 ],
 "metadata": {
  "kernelspec": {
   "display_name": "Python 3 (ipykernel)",
   "language": "python",
   "name": "python3"
  },
  "language_info": {
   "codemirror_mode": {
    "name": "ipython",
    "version": 3
   },
   "file_extension": ".py",
   "mimetype": "text/x-python",
   "name": "python",
   "nbconvert_exporter": "python",
   "pygments_lexer": "ipython3",
   "version": "3.9.12"
  }
 },
 "nbformat": 4,
 "nbformat_minor": 5
}
