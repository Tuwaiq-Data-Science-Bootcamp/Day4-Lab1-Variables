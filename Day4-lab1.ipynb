{
 "cells": [
  {
   "cell_type": "code",
   "execution_count": 4,
   "id": "69a4f23e",
   "metadata": {},
   "outputs": [],
   "source": [
    "fSeason = 'winter'\n",
    "x = 10 \n",
    "y = 9.4 \n",
    "s = w = q = 5 \n",
    "q,e,r = 3,4,5"
   ]
  },
  {
   "cell_type": "code",
   "execution_count": null,
   "id": "09b2e8bc",
   "metadata": {},
   "outputs": [],
   "source": []
  }
 ],
 "metadata": {
  "kernelspec": {
   "display_name": "Python 3 (ipykernel)",
   "language": "python",
   "name": "python3"
  },
  "language_info": {
   "codemirror_mode": {
    "name": "ipython",
    "version": 3
   },
   "file_extension": ".py",
   "mimetype": "text/x-python",
   "name": "python",
   "nbconvert_exporter": "python",
   "pygments_lexer": "ipython3",
   "version": "3.9.13"
  }
 },
 "nbformat": 4,
 "nbformat_minor": 5
}
